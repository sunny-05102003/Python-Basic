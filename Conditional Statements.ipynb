{
 "cells": [
  {
   "cell_type": "code",
   "execution_count": 1,
   "id": "a0855440-9ca6-4fb9-8b4c-322f22a06c9f",
   "metadata": {},
   "outputs": [],
   "source": [
    "# wap ask the user take two numbers\n",
    "# num1 and num2\n",
    "# if both numbers are matched then print we are won\n",
    "# otherwise print we lost"
   ]
  },
  {
   "cell_type": "code",
   "execution_count": 5,
   "id": "319840ff-687b-4bf4-befe-0fc42ff75e20",
   "metadata": {},
   "outputs": [
    {
     "name": "stdin",
     "output_type": "stream",
     "text": [
      "enter the 1st num 30\n",
      "enter the 2nd num 30\n"
     ]
    },
    {
     "name": "stdout",
     "output_type": "stream",
     "text": [
      "won\n"
     ]
    }
   ],
   "source": [
    "a=eval(input(\"enter the 1st num\"))\n",
    "b=eval(input(\"enter the 2nd num\"))\n",
    "if a==b:\n",
    "    print (\"won\")\n",
    "else:\n",
    "    print (\"lost\")"
   ]
  },
  {
   "cell_type": "code",
   "execution_count": 7,
   "id": "95582439-dd05-4543-a208-85ceca911703",
   "metadata": {},
   "outputs": [],
   "source": [
    "# wap ask the user take one number\n",
    "# another number comes as random integer between 1 to 10\n",
    "# num1 and num2\n",
    "# if both numbers are matched then print we are won\n",
    "# otherwise print we lost"
   ]
  },
  {
   "cell_type": "code",
   "execution_count": 69,
   "id": "fdeea1bc-17f3-4f6f-9b29-613827ff684f",
   "metadata": {},
   "outputs": [
    {
     "name": "stdin",
     "output_type": "stream",
     "text": [
      "enter the 1st num 2\n"
     ]
    },
    {
     "name": "stdout",
     "output_type": "stream",
     "text": [
      "lost\n"
     ]
    }
   ],
   "source": [
    "from random import randint\n",
    "a=eval(input(\"enter the 1st num\"))\n",
    "b=randint(1,10)\n",
    "if a==b:\n",
    "    print (\"won\")\n",
    "else:\n",
    "    print (\"lost\")\n"
   ]
  },
  {
   "cell_type": "code",
   "execution_count": 71,
   "id": "4cceb3bf-5a52-4f1e-b4f3-6ca15f619e92",
   "metadata": {},
   "outputs": [],
   "source": [
    "#wap ask the user enter a number\n",
    "# print if the number is even or odd\n",
    "\n",
    "# idea == reminder should be zero\n",
    "# step-1: num=eval(input())\n",
    "# step-2: if <con>:\n",
    "# step-3:   print (the given number is even)\n",
    "# step-4: else:\n",
    "# step-5:   print(the given number is odd)"
   ]
  },
  {
   "cell_type": "code",
   "execution_count": 81,
   "id": "eab749dd-a388-4473-81e7-380342b7f737",
   "metadata": {},
   "outputs": [
    {
     "name": "stdin",
     "output_type": "stream",
     "text": [
      "enter the  num 34\n"
     ]
    },
    {
     "name": "stdout",
     "output_type": "stream",
     "text": [
      "the given number is even\n"
     ]
    }
   ],
   "source": [
    "num=eval(input(\"enter the  num\"))\n",
    "if num%2==0:\n",
    "     print (\"the given number is even\")\n",
    "else:\n",
    "    print(\"the given number is odd\")"
   ]
  },
  {
   "cell_type": "code",
   "execution_count": 83,
   "id": "69029a62-4ea0-47d4-87b8-6a72ec49f2ff",
   "metadata": {},
   "outputs": [],
   "source": [
    "# wap ask the user enter distance\n",
    "# if distance greater than 25\n",
    "#      ask the charge\n",
    "#      calculate the charge other than25km distance\n",
    "# else\n",
    "#    print free ride"
   ]
  },
  {
   "cell_type": "code",
   "execution_count": 85,
   "id": "0ea7553b-1abc-4ac8-a8a9-b5677701974a",
   "metadata": {},
   "outputs": [
    {
     "name": "stdin",
     "output_type": "stream",
     "text": [
      "enter the  distance 536\n",
      "enter the charge 5\n"
     ]
    },
    {
     "name": "stdout",
     "output_type": "stream",
     "text": [
      "2555\n"
     ]
    }
   ],
   "source": [
    "distance =eval(input(\"enter the  distance\"))\n",
    "if distance >25:\n",
    "    charge=eval(input('enter the charge'))\n",
    "    total_charge=(distance-25)*charge \n",
    "    print(total_charge)\n",
    "else:\n",
    "    print(\"free ride\")\n",
    "    \n",
    "    \n",
    "\n",
    "    \n",
    "    \n",
    "    \n",
    "    "
   ]
  },
  {
   "cell_type": "code",
   "execution_count": 87,
   "id": "68671ce6-6db3-450b-9dac-996aec6e670d",
   "metadata": {},
   "outputs": [
    {
     "name": "stdin",
     "output_type": "stream",
     "text": [
      "Enter the Distance travelled: 536\n",
      "Enter the cutoff distance: 25\n"
     ]
    },
    {
     "name": "stdout",
     "output_type": "stream",
     "text": [
      "The extra distance you travelled is 511\n"
     ]
    },
    {
     "name": "stdin",
     "output_type": "stream",
     "text": [
      "Enter the fine: 5\n"
     ]
    },
    {
     "name": "stdout",
     "output_type": "stream",
     "text": [
      "2555\n"
     ]
    }
   ],
   "source": [
    "d = eval(input(\"Enter the Distance travelled:\"))\n",
    "cutoff_d = eval(input(\"Enter the cutoff distance:\"))\n",
    "if d>cutoff_d:\n",
    "    print(f\"The extra distance you travelled is {d - cutoff_d}\")\n",
    "    charge = eval(input(\"Enter the fine:\"))\n",
    "    total_c = (d-cutoff_d)*charge\n",
    "    print(total_c)\n",
    "else:\n",
    "    print(\"Free ride\")"
   ]
  },
  {
   "cell_type": "code",
   "execution_count": 89,
   "id": "863571da-df5e-4d1a-a057-ee6ac618f022",
   "metadata": {},
   "outputs": [],
   "source": [
    "# wap ask the user take two numbers\n",
    "# print which is greater number\n",
    "\n",
    "# step-1: n1= eval(input())\n",
    "# step-2: n2= eval(input())\n",
    "# step-3: if <cond>:\n",
    "# step-4:    print()\n",
    "# step-5: else:\n",
    "# step-6:    print()"
   ]
  },
  {
   "cell_type": "code",
   "execution_count": 101,
   "id": "21d1a84b-8064-485a-899c-e84d419c4273",
   "metadata": {},
   "outputs": [
    {
     "name": "stdin",
     "output_type": "stream",
     "text": [
      " 7\n",
      " 8\n"
     ]
    },
    {
     "name": "stdout",
     "output_type": "stream",
     "text": [
      "n2 is greter\n"
     ]
    }
   ],
   "source": [
    "n1= eval(input())\n",
    "n2= eval(input())\n",
    "if n1>n2 :\n",
    "    print(\"n1 is greter\")\n",
    "else:\n",
    "    print(\"n2 is greter\")"
   ]
  },
  {
   "cell_type": "code",
   "execution_count": 103,
   "id": "0cabf693-ec8a-491d-ba0f-115aa8761605",
   "metadata": {},
   "outputs": [],
   "source": [
    "# wap ask the user\n",
    "# enter the course name\n",
    "# enter the institute name\n",
    "# if course name equal to data science\n",
    "# and institute name equal to naresh it\n",
    "# then print we are good\n",
    "# else print not good\n",
    "\n",
    "# step-1: course_name=input()\n",
    "# step-2: inst_name=input()\n",
    "# step-3: if <c1> and <c2>:\n",
    "# step-4:    print\n",
    "# step-5: else:\n",
    "# step-6:    print"
   ]
  },
  {
   "cell_type": "code",
   "execution_count": 107,
   "id": "dbb96c74-b48a-40ea-ae14-4376417cacc8",
   "metadata": {},
   "outputs": [
    {
     "name": "stdin",
     "output_type": "stream",
     "text": [
      "enter the course name data science\n",
      "inter institute name naresh it\n"
     ]
    },
    {
     "name": "stdout",
     "output_type": "stream",
     "text": [
      "we are not good\n"
     ]
    }
   ],
   "source": [
    "course_name=input(\"enter the course name\")\n",
    "institute_name=input(\"inter institute name\")\n",
    "if course_name==\"data science\" and institute_name==\"naresh it \" :\n",
    "    print (\"we are good\")\n",
    "else:\n",
    "    print(\"we are not good\")\n",
    "\n"
   ]
  },
  {
   "cell_type": "code",
   "execution_count": 113,
   "id": "a9b39ba0-c608-4a0a-8f22-020fb69d4de6",
   "metadata": {},
   "outputs": [
    {
     "name": "stdin",
     "output_type": "stream",
     "text": [
      "Enter the name data science\n"
     ]
    },
    {
     "data": {
      "text/plain": [
       "'data science'"
      ]
     },
     "execution_count": 113,
     "metadata": {},
     "output_type": "execute_result"
    }
   ],
   "source": [
    "input(\"Enter the name\")"
   ]
  },
  {
   "cell_type": "code",
   "execution_count": 1,
   "id": "6ffefacc-b660-489e-89a3-49d9eb694b6f",
   "metadata": {},
   "outputs": [
    {
     "data": {
      "text/plain": [
       "<function print(*args, sep=' ', end='\\n', file=None, flush=False)>"
      ]
     },
     "execution_count": 1,
     "metadata": {},
     "output_type": "execute_result"
    }
   ],
   "source": [
    "import time \n",
    "print "
   ]
  },
  {
   "cell_type": "markdown",
   "id": "d17a2fcb-aeec-44bc-9024-b0336eb48a09",
   "metadata": {},
   "source": []
  },
  {
   "cell_type": "code",
   "execution_count": 5,
   "id": "d8a3cdd9-1fd4-42f4-8bf0-5e4529315e74",
   "metadata": {},
   "outputs": [
    {
     "name": "stdin",
     "output_type": "stream",
     "text": [
      "enter the number  9\n"
     ]
    },
    {
     "name": "stdout",
     "output_type": "stream",
     "text": [
      "odd\n"
     ]
    }
   ],
   "source": [
    "num=eval(input(\"enter the number \"))\n",
    "if num%2==0:\n",
    "    print(\"the given number ie even\")\n",
    "else:\n",
    "    print(\"odd\")"
   ]
  },
  {
   "cell_type": "code",
   "execution_count": 9,
   "id": "94028d24-001f-452b-b6bb-d9f049b19a1c",
   "metadata": {},
   "outputs": [
    {
     "name": "stdin",
     "output_type": "stream",
     "text": [
      "enter the distance 200\n",
      "enter the distance 50\n"
     ]
    },
    {
     "name": "stdout",
     "output_type": "stream",
     "text": [
      "extra distance thy have to pay charge 150 :\n"
     ]
    },
    {
     "name": "stdin",
     "output_type": "stream",
     "text": [
      "enter the charge 2\n"
     ]
    },
    {
     "name": "stdout",
     "output_type": "stream",
     "text": [
      "the total charge = 300\n"
     ]
    }
   ],
   "source": [
    "distance=eval(input(\"enter the distance\"))\n",
    "cut_of_distance=eval(input(\"enter the distance\"))\n",
    "if distance>cut_of_distance:\n",
    "    print(f\"extra distance thy have to pay charge {distance-cut_of_distance} :\")\n",
    "    charge=eval(input(\"enter the charge\"))\n",
    "    total_charge=(distance-cut_of_distance)*charge\n",
    "    print(f\"the total charge = {total_charge}\")\n",
    "else:\n",
    "    print(\"free ride\")\n",
    "\n",
    "                              "
   ]
  },
  {
   "cell_type": "code",
   "execution_count": 11,
   "id": "293d8f0c-e3c9-466d-af96-78eda56d3891",
   "metadata": {},
   "outputs": [
    {
     "name": "stdin",
     "output_type": "stream",
     "text": [
      "enter the number  4\n"
     ]
    },
    {
     "name": "stdout",
     "output_type": "stream",
     "text": [
      "enter a valid num\n"
     ]
    }
   ],
   "source": [
    "num=eval(input(\"enter the number \"))\n",
    "if num==1:\n",
    "    print(\"one\")\n",
    "elif num==2:\n",
    "    print(\"two\")\n",
    "elif num==3:\n",
    "    print(\"three\")\n",
    "else :\n",
    "    print(\"enter a valid num\")"
   ]
  },
  {
   "cell_type": "code",
   "execution_count": 17,
   "id": "b3d202ee-e456-4cd1-982d-daaca1aec303",
   "metadata": {},
   "outputs": [
    {
     "name": "stdin",
     "output_type": "stream",
     "text": [
      "enter the per 99\n"
     ]
    },
    {
     "name": "stdout",
     "output_type": "stream",
     "text": [
      "grade A\n"
     ]
    }
   ],
   "source": [
    "per=eval(input(\"enter the per\"))\n",
    "if per>=75:\n",
    "    print(\"grade A\")\n",
    "elif per >=60:\n",
    "    print(\"grade B\")\n",
    "elif per >=45:\n",
    "    print(\"grade c\")\n",
    "elif per >35:\n",
    "    print(\"grade d \")\n",
    "\n",
    "else:\n",
    "    print (\"fail\")"
   ]
  },
  {
   "cell_type": "code",
   "execution_count": 23,
   "id": "3777708b-a78a-45c9-9976-4659a624a0cb",
   "metadata": {},
   "outputs": [
    {
     "name": "stdin",
     "output_type": "stream",
     "text": [
      "enter the age  10000\n"
     ]
    },
    {
     "name": "stdout",
     "output_type": "stream",
     "text": [
      "unlucky guy\n"
     ]
    }
   ],
   "source": [
    "age=eval(input(\"enter the age \"))\n",
    "if age > 100:\n",
    "    print(\"unlucky guy\")\n",
    "elif age >=80:\n",
    "    print(\"super senior citizen\")\n",
    "elif age >=60:\n",
    "    print(\"senior citizen\")\n",
    "else:\n",
    "    print (\"dont now\")\n",
    "    \n"
   ]
  },
  {
   "cell_type": "code",
   "execution_count": 31,
   "id": "3d9cd0a6-82e6-4985-a860-37e102293643",
   "metadata": {},
   "outputs": [
    {
     "name": "stdin",
     "output_type": "stream",
     "text": [
      "the distance 8\n"
     ]
    },
    {
     "name": "stdout",
     "output_type": "stream",
     "text": [
      "free ride\n"
     ]
    }
   ],
   "source": [
    "distance=eval(input (\"the distance\"))\n",
    "if distance >100:\n",
    "    charge=eval(input(\"enter the charge\"))\n",
    "    total_charge=distance*charge\n",
    "    print(f\"the total_charge={total_charge}\")\n",
    "elif distance >=50:\n",
    "    charge=eval(input(\"enter the charge\"))\n",
    "    total_charge=distance*charge\n",
    "    print(f\"the total_charge={total_charge}\")\n",
    "elif distance >=25:\n",
    "    charge=eval(input(\"enter the charge\"))\n",
    "    total_charge=distance*charge\n",
    "    print(f\"the total_charge={total_charge}\")\n",
    "else:\n",
    "    print(\"free ride\")\n",
    "    \n",
    "    \n"
   ]
  },
  {
   "cell_type": "code",
   "execution_count": 39,
   "id": "b283f607-5db0-4827-aa79-cd4c36a42bb5",
   "metadata": {},
   "outputs": [
    {
     "name": "stdout",
     "output_type": "stream",
     "text": [
      "for addition press 1\n",
      "for subtraction press 2\n",
      "for multiplication press 3\n",
      "for division press 4\n"
     ]
    },
    {
     "name": "stdin",
     "output_type": "stream",
     "text": [
      "enter  the number between 1 to 4 3\n"
     ]
    },
    {
     "name": "stdout",
     "output_type": "stream",
     "text": [
      "you  choose the multplication\n"
     ]
    },
    {
     "name": "stdin",
     "output_type": "stream",
     "text": [
      "enter the num1 5000\n",
      "enter the num2 5\n"
     ]
    },
    {
     "name": "stdout",
     "output_type": "stream",
     "text": [
      "the multipication = 25000\n"
     ]
    }
   ],
   "source": [
    "from time import sleep\n",
    "print(\"for addition press 1\")\n",
    "sleep(1)\n",
    "print(\"for subtraction press 2\")\n",
    "sleep(1)\n",
    "print(\"for multiplication press 3\")\n",
    "sleep(1)\n",
    "print(\"for division press 4\")\n",
    "sleep(1)\n",
    "operation=eval(input(\"enter  the number between 1 to 4\"))\n",
    "if operation==1:\n",
    "    print(\"you choose addition operation \")\n",
    "    num1=eval(input(\"enter the num 1\"))\n",
    "    num1=eval(input(\"enter the num 2\"))\n",
    "    add=num1+num2\n",
    "    print(f\"the sum of two num = {add}\")\n",
    "elif operation==2:\n",
    "    print(\"you  choose the subtraction\")\n",
    "    num1=eval(input(\"enter the num1\"))\n",
    "    num2=eval(input(\"enter the num2\"))\n",
    "    sub=num1-num2\n",
    "    print(f\"the subtraction = {sub}\")\n",
    "elif operation==3:\n",
    "    print(\"you  choose the multplication\")\n",
    "    num1=eval(input(\"enter the num1\"))\n",
    "    num2=eval(input(\"enter the num2\"))\n",
    "    mul=num1*num2\n",
    "    print(f\"the multipication = {mul}\")\n",
    "elif operation==4:\n",
    "    print(\"you  choose the division\")\n",
    "    num1=eval(input(\"enter the num1\"))\n",
    "    num2=eval(input(\"enter the num2\"))\n",
    "    div=num1/num2\n",
    "    print(f\"the division = {div}\")\n",
    "else:\n",
    "    print(\"no operation\")\n",
    "\n",
    "    \n"
   ]
  },
  {
   "cell_type": "markdown",
   "id": "d9f571e8-31a3-4305-9a9c-fbf5a93cc638",
   "metadata": {},
   "source": [
    "# nested_if-elif-else"
   ]
  },
  {
   "cell_type": "code",
   "execution_count": 42,
   "id": "d1befe42-f5c0-4397-ad00-06eaba6cd48a",
   "metadata": {},
   "outputs": [
    {
     "name": "stdin",
     "output_type": "stream",
     "text": [
      "enter the number  6\n"
     ]
    },
    {
     "name": "stdout",
     "output_type": "stream",
     "text": [
      "positive \n"
     ]
    }
   ],
   "source": [
    "# if-elif-else\n",
    "# wap ask the user enter a number\n",
    "# if number greater than zero then print postive number\n",
    "# if number less than zero then print negative number\n",
    "# otherwise print it is a zero\n",
    "\n",
    "num=eval(input(\"enter the number \"))\n",
    "if num>0:\n",
    "    print(\"positive \")\n",
    "elif num<0:\n",
    "    print(\"negative\")\n",
    "else :\n",
    "    print(\"zero\")\n"
   ]
  },
  {
   "cell_type": "code",
   "execution_count": 48,
   "id": "5fba2618-cfe5-4c4d-9282-de118292daf3",
   "metadata": {},
   "outputs": [
    {
     "name": "stdin",
     "output_type": "stream",
     "text": [
      "enter the num -5\n"
     ]
    },
    {
     "name": "stdout",
     "output_type": "stream",
     "text": [
      "negative\n"
     ]
    }
   ],
   "source": [
    "num=eval(input(\"enter the num\"))\n",
    "if num>=0:\n",
    "    if num==0:\n",
    "        print(\"it is zero\")\n",
    "    else:\n",
    "        print(\"positive\")\n",
    "else:\n",
    "    print(\"negative\")"
   ]
  },
  {
   "cell_type": "code",
   "execution_count": 58,
   "id": "4646f340-8410-4d21-ab65-0a2f8b8a00f3",
   "metadata": {},
   "outputs": [
    {
     "name": "stdin",
     "output_type": "stream",
     "text": [
      "enter the gender  male\n",
      "enter the age 45\n"
     ]
    },
    {
     "name": "stdout",
     "output_type": "stream",
     "text": [
      "mid age men\n"
     ]
    }
   ],
   "source": [
    "gender=input(\"enter the gender \")\n",
    "if gender == \"male\" :\n",
    "    age=eval(input(\"enter the age\"))\n",
    "    if age >= 60 :\n",
    "        print(\"SC\")\n",
    "    elif age >=30:\n",
    "        print(\"mid age men\")\n",
    "    elif age >=10:\n",
    "        print(\"young men\")\n",
    "    else:\n",
    "        print(\"boy\")\n",
    "elif gender==\"female\":\n",
    "    age=eval(input(\"enter the age\"))\n",
    "    if age >=60:\n",
    "        print(\"sc\")\n",
    "    elif age >=30:\n",
    "        print(\"mid age women\")\n",
    "    elif age >=10:\n",
    "        prrint(\"girl\")\n",
    "else :\n",
    "    print(\"enter the valide gender\")\n",
    "    \n"
   ]
  },
  {
   "cell_type": "code",
   "execution_count": 64,
   "id": "53eb2e52-32a7-4f0b-90e3-db8dbe86d987",
   "metadata": {},
   "outputs": [
    {
     "name": "stdin",
     "output_type": "stream",
     "text": [
      "enter the num 56\n",
      "enter the num 57\n",
      "enter the num 58\n"
     ]
    },
    {
     "name": "stdout",
     "output_type": "stream",
     "text": [
      " the grater num is 58\n"
     ]
    }
   ],
   "source": [
    "# wap ask the user take three numbers\n",
    "# find the biggest number\n",
    "\n",
    "n1=eval(input(\"enter the num\"))\n",
    "n2=eval(input(\"enter the num\"))\n",
    "n3=eval(input(\"enter the num\"))\n",
    "if n1>n2 and n2>n3:\n",
    "    print(f\"the grater num is {n1}\")\n",
    "elif n2>n3:\n",
    "    print(f\" the grater num is {n2}\")\n",
    "else:\n",
    "    print(f\" the grater num is {n3}\")\n",
    "\n"
   ]
  },
  {
   "cell_type": "code",
   "execution_count": 70,
   "id": "cc501a4c-753d-460f-ae0f-79a059fc3262",
   "metadata": {},
   "outputs": [
    {
     "name": "stdin",
     "output_type": "stream",
     "text": [
      "enter the num 46\n",
      "enter the num 55\n",
      "enter the num 77\n"
     ]
    },
    {
     "name": "stdout",
     "output_type": "stream",
     "text": [
      " the greater num = 77\n"
     ]
    }
   ],
   "source": [
    "n1n1=eval(input(\"enter the num\"))\n",
    "n2=eval(input(\"enter the num\"))\n",
    "n3=eval(input(\"enter the num\"))\n",
    "if n1>n2:\n",
    "    if n1>n3:\n",
    "        print(f\" the grater num = {n1}\")\n",
    "    else:\n",
    "        print(f\" the greater num = {n3}\")\n",
    "elif n2>n3:\n",
    "    print(f\" the greater num = {n2}\")\n",
    "else:\n",
    "    print(f\" the greater num = {n3}\")\n",
    "              \n",
    "    "
   ]
  },
  {
   "cell_type": "code",
   "execution_count": 84,
   "id": "ab963216-4c53-4cea-ba06-f7222333b71a",
   "metadata": {},
   "outputs": [
    {
     "name": "stdin",
     "output_type": "stream",
     "text": [
      "enter the num 500\n",
      "enter the num 677\n",
      "enter the num 6777\n"
     ]
    },
    {
     "name": "stdout",
     "output_type": "stream",
     "text": [
      " the greater num = 6777\n"
     ]
    }
   ],
   "source": [
    "n1=eval(input(\"enter the num\"))\n",
    "n2=eval(input(\"enter the num\"))\n",
    "n3=eval(input(\"enter the num\"))\n",
    "if n1>n2>n3:\n",
    "    print(f\" the greater num = {n1}\")\n",
    "elif n2>n3>n1:\n",
    "    print(f\" the greater num ={n2}\")\n",
    "else :\n",
    "    print (f\" the greater num = {n3}\")"
   ]
  },
  {
   "cell_type": "code",
   "execution_count": null,
   "id": "b766dbfe-effb-4783-b42e-0334443180a4",
   "metadata": {},
   "outputs": [],
   "source": []
  }
 ],
 "metadata": {
  "kernelspec": {
   "display_name": "Python 3 (ipykernel)",
   "language": "python",
   "name": "python3"
  },
  "language_info": {
   "codemirror_mode": {
    "name": "ipython",
    "version": 3
   },
   "file_extension": ".py",
   "mimetype": "text/x-python",
   "name": "python",
   "nbconvert_exporter": "python",
   "pygments_lexer": "ipython3",
   "version": "3.12.4"
  }
 },
 "nbformat": 4,
 "nbformat_minor": 5
}
