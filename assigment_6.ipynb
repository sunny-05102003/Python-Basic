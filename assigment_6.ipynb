{
 "cells": [
  {
   "cell_type": "code",
   "execution_count": 1,
   "id": "426ecff2-03a7-4718-aaa0-f2481720d3b8",
   "metadata": {},
   "outputs": [],
   "source": [
    "#Q1)wap ask the user enter a number and get the square of the number\n",
    "# the user should enter 5 values one by one\n",
    "# the prompt should ask 5 times\n",
    "\n",
    "#Q2)wap ask the user enter 5 numbers\n",
    "# print it is a even number or odd\n",
    "# loop should run 5 times\n",
    "# code should ask 5 times enter the number\n",
    "\n",
    "#Q3)wap ask the user print 7th table\n",
    "# o/p\n",
    "#  7x1=7\n",
    "#  7x2=14\n",
    "\n",
    "#Q4)WAP ask the user enter the number and find the divisors of the number\n",
    "# 75 ====> 1,3,5,15,75\n",
    "\n",
    "#Q5)wap ask the user print first 10 natural numbers\n",
    "# 1+2+3+4+5+6+7+8+9+10=55\n",
    "\n",
    "#Q6)wap ask the user find the count of divisors\n",
    "\n",
    "#Q7)wap ask the user to enter a number 5 times\n",
    "# the loop should ask 5 times\n",
    "# you should calculate even odd\n",
    "# get the count of even and count of odd number"
   ]
  },
  {
   "cell_type": "code",
   "execution_count": 3,
   "id": "08ee2b55-12f1-4bd3-82a1-f6d27b9caba5",
   "metadata": {},
   "outputs": [],
   "source": [
    "#Q1)wap ask the user enter a number and get the square of the number\n",
    "# the user should enter 5 values one by one\n",
    "# the prompt should ask 5 times"
   ]
  },
  {
   "cell_type": "code",
   "execution_count": 21,
   "id": "e24f386f-b5aa-460a-972c-37a60645b840",
   "metadata": {},
   "outputs": [
    {
     "name": "stdin",
     "output_type": "stream",
     "text": [
      "enter the number 4\n"
     ]
    },
    {
     "name": "stdout",
     "output_type": "stream",
     "text": [
      "16\n"
     ]
    },
    {
     "name": "stdin",
     "output_type": "stream",
     "text": [
      "enter the number 5\n"
     ]
    },
    {
     "name": "stdout",
     "output_type": "stream",
     "text": [
      "25\n"
     ]
    },
    {
     "name": "stdin",
     "output_type": "stream",
     "text": [
      "enter the number 6\n"
     ]
    },
    {
     "name": "stdout",
     "output_type": "stream",
     "text": [
      "36\n"
     ]
    },
    {
     "name": "stdin",
     "output_type": "stream",
     "text": [
      "enter the number 7\n"
     ]
    },
    {
     "name": "stdout",
     "output_type": "stream",
     "text": [
      "49\n"
     ]
    },
    {
     "name": "stdin",
     "output_type": "stream",
     "text": [
      "enter the number 8\n"
     ]
    },
    {
     "name": "stdout",
     "output_type": "stream",
     "text": [
      "64\n"
     ]
    }
   ],
   "source": [
    "for i in range(5):\n",
    "    n=int(input(\"enter the number\"))\n",
    "    print(n*n)\n",
    "    "
   ]
  },
  {
   "cell_type": "code",
   "execution_count": 23,
   "id": "6bc9fad0-b39c-4801-a1d5-b42a57227e26",
   "metadata": {},
   "outputs": [],
   "source": [
    "# Q2)wap ask the user enter 5 numbers\n",
    "# # print it is a even number or odd\n",
    "# # loop should run 5 times\n",
    "# # code should ask 5 times enter the number"
   ]
  },
  {
   "cell_type": "code",
   "execution_count": 25,
   "id": "41711b17-6e1b-4a69-85e8-f6c5f7f57a61",
   "metadata": {},
   "outputs": [
    {
     "name": "stdin",
     "output_type": "stream",
     "text": [
      "enter the number  3\n"
     ]
    },
    {
     "name": "stdout",
     "output_type": "stream",
     "text": [
      "odd\n"
     ]
    },
    {
     "name": "stdin",
     "output_type": "stream",
     "text": [
      "enter the number  4\n"
     ]
    },
    {
     "name": "stdout",
     "output_type": "stream",
     "text": [
      "even\n"
     ]
    },
    {
     "name": "stdin",
     "output_type": "stream",
     "text": [
      "enter the number  5\n"
     ]
    },
    {
     "name": "stdout",
     "output_type": "stream",
     "text": [
      "odd\n"
     ]
    },
    {
     "name": "stdin",
     "output_type": "stream",
     "text": [
      "enter the number  6\n"
     ]
    },
    {
     "name": "stdout",
     "output_type": "stream",
     "text": [
      "even\n"
     ]
    },
    {
     "name": "stdin",
     "output_type": "stream",
     "text": [
      "enter the number  7\n"
     ]
    },
    {
     "name": "stdout",
     "output_type": "stream",
     "text": [
      "odd\n"
     ]
    }
   ],
   "source": [
    "\n",
    "for i in range(5):\n",
    "    num=int(input(\"enter the number \"))\n",
    "    if num%2==0:\n",
    "        print(\"even\")\n",
    "\n",
    "\n",
    "    else:\n",
    "        print(\"odd\")\n",
    "    "
   ]
  },
  {
   "cell_type": "code",
   "execution_count": 27,
   "id": "0d73ac65-810a-42ad-95a7-7b9cc41a7f6f",
   "metadata": {},
   "outputs": [],
   "source": [
    "#Q3)wap ask the user print 7th table\n",
    "# o/p\n",
    "#  7x1=7\n",
    "#  7x2=14"
   ]
  },
  {
   "cell_type": "code",
   "execution_count": 33,
   "id": "4223f189-0f1c-4e8e-841f-916a60397a03",
   "metadata": {},
   "outputs": [
    {
     "name": "stdin",
     "output_type": "stream",
     "text": [
      "enter the number 7\n"
     ]
    },
    {
     "name": "stdout",
     "output_type": "stream",
     "text": [
      "7\n",
      "14\n",
      "21\n",
      "28\n",
      "35\n",
      "42\n",
      "49\n",
      "56\n",
      "63\n",
      "70\n"
     ]
    }
   ],
   "source": [
    "num=int(input(\"enter the number\"))\n",
    "for i in range(1,11):\n",
    "    \n",
    "    print(num*i)"
   ]
  },
  {
   "cell_type": "code",
   "execution_count": 35,
   "id": "a02a9745-3e08-40b0-b592-db1ae9b4087d",
   "metadata": {},
   "outputs": [],
   "source": [
    "#Q4)WAP ask the user enter the number and find the divisors of the number\n",
    "# 75 ====> 1,3,5,15,75"
   ]
  },
  {
   "cell_type": "code",
   "execution_count": 57,
   "id": "b6cde2fd-d287-4a14-96f4-e89a9641b8ad",
   "metadata": {},
   "outputs": [
    {
     "name": "stdin",
     "output_type": "stream",
     "text": [
      "enter the num 285\n"
     ]
    },
    {
     "name": "stdout",
     "output_type": "stream",
     "text": [
      "1 divisers 285\n",
      "3 divisers 285\n",
      "5 divisers 285\n",
      "15 divisers 285\n",
      "19 divisers 285\n",
      "57 divisers 285\n",
      "95 divisers 285\n",
      "285 divisers 285\n"
     ]
    }
   ],
   "source": [
    "num=int(input(\"enter the num\"))\n",
    "for i in range(1,num+1):\n",
    "    if num%i==0:\n",
    "        print(f\"{i} divisers\",num)\n"
   ]
  },
  {
   "cell_type": "code",
   "execution_count": 59,
   "id": "22d244cd-f060-4996-a6ff-be88decc442d",
   "metadata": {},
   "outputs": [],
   "source": [
    "#Q5)wap ask the user print first 10 natural numbers\n",
    "# 1+2+3+4+5+6+7+8+9+10=55"
   ]
  },
  {
   "cell_type": "code",
   "execution_count": 61,
   "id": "cb7be27a-262d-44c8-a530-46af5ede3029",
   "metadata": {},
   "outputs": [
    {
     "name": "stdout",
     "output_type": "stream",
     "text": [
      "1\n",
      "3\n",
      "6\n",
      "10\n",
      "15\n",
      "21\n",
      "28\n",
      "36\n",
      "45\n",
      "55\n"
     ]
    }
   ],
   "source": [
    "summ=0\n",
    "for i in range(1,11):\n",
    "    summ=summ+i\n",
    "    print(summ)"
   ]
  },
  {
   "cell_type": "code",
   "execution_count": 63,
   "id": "74c0f544-fb9c-46e4-ac15-3665c453c595",
   "metadata": {},
   "outputs": [],
   "source": [
    "#Q6)wap ask the user find the count of divisors"
   ]
  },
  {
   "cell_type": "code",
   "execution_count": 77,
   "id": "01b203fc-794d-4f1b-b93f-770b68489fcc",
   "metadata": {},
   "outputs": [
    {
     "name": "stdin",
     "output_type": "stream",
     "text": [
      "enter the diviser  54\n"
     ]
    },
    {
     "name": "stdout",
     "output_type": "stream",
     "text": [
      "1 is diviser of : 54\n",
      "2 is diviser of : 54\n",
      "3 is diviser of : 54\n",
      "6 is diviser of : 54\n",
      "9 is diviser of : 54\n",
      "18 is diviser of : 54\n",
      "27 is diviser of : 54\n",
      "54 is diviser of : 54\n",
      "the no of diviser are  8\n"
     ]
    }
   ],
   "source": [
    "count=0\n",
    "num=int(input(\"enter the diviser \"))\n",
    "for i in range(1,num+1):\n",
    "    if num%i==0:\n",
    "        count=count+1\n",
    "        print(f\"{i} is diviser of : {num}\")\n",
    "\n",
    "print(\"the no of diviser are \", count)"
   ]
  },
  {
   "cell_type": "markdown",
   "id": "c83bddf8-7efc-41dc-9d30-b1bf7bc8c608",
   "metadata": {},
   "source": [
    "<!-- #Q7)wap ask the user to enter a number 5 times\n",
    "# the loop should ask 5 times\n",
    "# you should calculate even odd\n",
    "# get the count of even and count of odd number -->"
   ]
  },
  {
   "cell_type": "code",
   "execution_count": 80,
   "id": "a19ade1f-148c-446f-a5a6-9e1d6b1475f0",
   "metadata": {},
   "outputs": [],
   "source": [
    "#Q7)wap ask the user to enter a number 5 times\n",
    "# the loop should ask 5 times\n",
    "# you should calculate even odd\n",
    "# get the count of even and count of odd number"
   ]
  },
  {
   "cell_type": "code",
   "execution_count": 86,
   "id": "45bab99f-36f1-4744-bc62-98c307058ba2",
   "metadata": {},
   "outputs": [
    {
     "name": "stdin",
     "output_type": "stream",
     "text": [
      "enter the number  1\n"
     ]
    },
    {
     "name": "stdout",
     "output_type": "stream",
     "text": [
      "odd\n"
     ]
    },
    {
     "name": "stdin",
     "output_type": "stream",
     "text": [
      "enter the number  2\n"
     ]
    },
    {
     "name": "stdout",
     "output_type": "stream",
     "text": [
      "even\n"
     ]
    },
    {
     "name": "stdin",
     "output_type": "stream",
     "text": [
      "enter the number  3\n"
     ]
    },
    {
     "name": "stdout",
     "output_type": "stream",
     "text": [
      "odd\n"
     ]
    },
    {
     "name": "stdin",
     "output_type": "stream",
     "text": [
      "enter the number  4\n"
     ]
    },
    {
     "name": "stdout",
     "output_type": "stream",
     "text": [
      "even\n"
     ]
    },
    {
     "name": "stdin",
     "output_type": "stream",
     "text": [
      "enter the number  5\n"
     ]
    },
    {
     "name": "stdout",
     "output_type": "stream",
     "text": [
      "odd\n",
      "the number of even 2\n",
      "the number of odd  3\n"
     ]
    }
   ],
   "source": [
    "even_count,odd_count=0,0\n",
    "for i in range(5):\n",
    "    num=int(input(\"enter the number \"))\n",
    "    if num%2==0:\n",
    "        print(\"even\")\n",
    "        even_count=even_count+1\n",
    "\n",
    "    else:\n",
    "        print(\"odd\")\n",
    "        odd_count=odd_count+1\n",
    "\n",
    "print(\"the number of even\",even_count)\n",
    "print(\"the number of odd \",odd_count)\n"
   ]
  },
  {
   "cell_type": "code",
   "execution_count": null,
   "id": "c6e1ffa6-383b-4d3d-927a-852a640c7dd0",
   "metadata": {},
   "outputs": [],
   "source": []
  }
 ],
 "metadata": {
  "kernelspec": {
   "display_name": "Python 3 (ipykernel)",
   "language": "python",
   "name": "python3"
  },
  "language_info": {
   "codemirror_mode": {
    "name": "ipython",
    "version": 3
   },
   "file_extension": ".py",
   "mimetype": "text/x-python",
   "name": "python",
   "nbconvert_exporter": "python",
   "pygments_lexer": "ipython3",
   "version": "3.12.4"
  }
 },
 "nbformat": 4,
 "nbformat_minor": 5
}
